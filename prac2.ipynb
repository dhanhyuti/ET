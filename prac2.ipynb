{
  "nbformat": 4,
  "nbformat_minor": 0,
  "metadata": {
    "colab": {
      "provenance": [],
      "authorship_tag": "ABX9TyMoPNRcZG5CC3ZyV4QDlvIB",
      "include_colab_link": true
    },
    "kernelspec": {
      "name": "python3",
      "display_name": "Python 3"
    },
    "language_info": {
      "name": "python"
    }
  },
  "cells": [
    {
      "cell_type": "markdown",
      "metadata": {
        "id": "view-in-github",
        "colab_type": "text"
      },
      "source": [
        "<a href=\"https://colab.research.google.com/github/dhanhyuti/ET/blob/main/prac2.ipynb\" target=\"_parent\"><img src=\"https://colab.research.google.com/assets/colab-badge.svg\" alt=\"Open In Colab\"/></a>"
      ]
    },
    {
      "cell_type": "code",
      "execution_count": 3,
      "metadata": {
        "colab": {
          "base_uri": "https://localhost:8080/"
        },
        "id": "8oYiXl8HHGO0",
        "outputId": "92587b1f-5dc5-4dcb-9c93-7a34116d5a01"
      },
      "outputs": [
        {
          "output_type": "stream",
          "name": "stdout",
          "text": [
            "Logical Operators\n",
            "True\n",
            "False\n",
            "True\n",
            "False\n",
            "Relational Operators\n",
            "a == b = False\n",
            "a != b = True\n",
            "a > b = False\n",
            "a < b = True\n",
            "a >= b = False\n",
            "a <= b = True\n"
          ]
        }
      ],
      "source": [
        "print(\"Logical Operators\")\n",
        "print(True and True)\n",
        "print(True and False)\n",
        "print(True or False)\n",
        "print(not True)\n",
        "print(\"Relational Operators\")\n",
        "a=5\n",
        "b=6\n",
        "print('a == b =', a == b)\n",
        "print('a != b =', a != b)\n",
        "print('a > b =', a > b)\n",
        "print('a < b =', a < b)\n",
        "print('a >= b =', a >= b)\n",
        "print('a <= b =', a <= b)\n"
      ]
    }
  ]
}