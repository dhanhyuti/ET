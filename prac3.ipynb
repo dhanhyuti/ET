{
  "nbformat": 4,
  "nbformat_minor": 0,
  "metadata": {
    "colab": {
      "provenance": [],
      "authorship_tag": "ABX9TyOG0QX0v8UDm0W657Ywo5k7",
      "include_colab_link": true
    },
    "kernelspec": {
      "name": "python3",
      "display_name": "Python 3"
    },
    "language_info": {
      "name": "python"
    }
  },
  "cells": [
    {
      "cell_type": "markdown",
      "metadata": {
        "id": "view-in-github",
        "colab_type": "text"
      },
      "source": [
        "<a href=\"https://colab.research.google.com/github/dhanhyuti/ET/blob/main/prac3.ipynb\" target=\"_parent\"><img src=\"https://colab.research.google.com/assets/colab-badge.svg\" alt=\"Open In Colab\"/></a>"
      ]
    },
    {
      "cell_type": "code",
      "execution_count": 5,
      "metadata": {
        "colab": {
          "base_uri": "https://localhost:8080/"
        },
        "id": "8oYiXl8HHGO0",
        "outputId": "496eb16e-fdb1-4e51-9a9f-64ba3f8ce52c"
      },
      "outputs": [
        {
          "output_type": "stream",
          "name": "stdout",
          "text": [
            "Enter the integer number: 1324\n",
            "The reverse number is: 4231\n"
          ]
        }
      ],
      "source": [
        "number = int(input(\"Enter the integer number: \"))\n",
        "revs_number = 0\n",
        "\n",
        "while number > 0:\n",
        "  remainder = number % 10\n",
        "  revs_number = (revs_number * 10) + remainder\n",
        "  number = number // 10\n",
        "\n",
        "print(\"The reverse number is:\", revs_number)"
      ]
    }
  ]
}