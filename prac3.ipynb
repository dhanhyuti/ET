{
  "nbformat": 4,
  "nbformat_minor": 0,
  "metadata": {
    "colab": {
      "provenance": [],
      "authorship_tag": "ABX9TyOOh1+1JR9G5GLNt8M7b0pp",
      "include_colab_link": true
    },
    "kernelspec": {
      "name": "python3",
      "display_name": "Python 3"
    },
    "language_info": {
      "name": "python"
    }
  },
  "cells": [
    {
      "cell_type": "markdown",
      "metadata": {
        "id": "view-in-github",
        "colab_type": "text"
      },
      "source": [
        "<a href=\"https://colab.research.google.com/github/dhanhyuti/ET/blob/main/prac3.ipynb\" target=\"_parent\"><img src=\"https://colab.research.google.com/assets/colab-badge.svg\" alt=\"Open In Colab\"/></a>"
      ]
    },
    {
      "cell_type": "code",
      "execution_count": 5,
      "metadata": {
        "colab": {
          "base_uri": "https://localhost:8080/"
        },
        "id": "8oYiXl8HHGO0",
        "outputId": "496eb16e-fdb1-4e51-9a9f-64ba3f8ce52c"
      },
      "outputs": [
        {
          "output_type": "stream",
          "name": "stdout",
          "text": [
            "Enter the integer number: 1324\n",
            "The reverse number is: 4231\n"
          ]
        }
      ],
      "source": [
        "number = int(input(\"Enter the integer number: \"))\n",
        "revs_number = 0\n",
        "\n",
        "while number > 0:\n",
        "  remainder = number % 10\n",
        "  revs_number = (revs_number * 10) + remainder\n",
        "  number = number // 10\n",
        "\n",
        "print(\"The reverse number is:\", revs_number)"
      ]
    },
    {
      "cell_type": "code",
      "source": [
        "num = input(\"Enter the first number:\")\n",
        "\n",
        "reverse = ''\n",
        "for i in range(len(num), 0, -1):\n",
        "  reverse += num[i-1]\n",
        "\n",
        "print('The reverse number is =', reverse)\n"
      ],
      "metadata": {
        "colab": {
          "base_uri": "https://localhost:8080/"
        },
        "id": "LvaGfMY6LgO4",
        "outputId": "c600f1da-32ec-42bc-cd40-99bf15ae46a7"
      },
      "execution_count": 6,
      "outputs": [
        {
          "output_type": "stream",
          "name": "stdout",
          "text": [
            "Enter the first number:67567575\n",
            "The reverse number is = 57576576\n"
          ]
        }
      ]
    }
  ]
}