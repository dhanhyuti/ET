{
  "nbformat": 4,
  "nbformat_minor": 0,
  "metadata": {
    "colab": {
      "provenance": [],
      "authorship_tag": "ABX9TyP3loTi/PCkjozjqEid8ZHw",
      "include_colab_link": true
    },
    "kernelspec": {
      "name": "python3",
      "display_name": "Python 3"
    },
    "language_info": {
      "name": "python"
    }
  },
  "cells": [
    {
      "cell_type": "markdown",
      "metadata": {
        "id": "view-in-github",
        "colab_type": "text"
      },
      "source": [
        "<a href=\"https://colab.research.google.com/github/dhanhyuti/ET/blob/main/prac4.ipynb\" target=\"_parent\"><img src=\"https://colab.research.google.com/assets/colab-badge.svg\" alt=\"Open In Colab\"/></a>"
      ]
    },
    {
      "cell_type": "code",
      "source": [
        "#list\n",
        "subjects =[]\n",
        "subjects.append('Python')\n",
        "subjects.append('ETDS')\n",
        "print(subjects)\n",
        "A = [2, 33, 1, 0]\n",
        "B = [22, 3, 0, -2]\n",
        "A.append(8)\n",
        "print(A)\n",
        "A.sort()\n",
        "print(A) # [0, 1, 2, 33]\n",
        "A.insert(3,15)\n",
        "print(A)\n",
        "A.sort(reverse=True)\n",
        "print(A)\n"
      ],
      "metadata": {
        "colab": {
          "base_uri": "https://localhost:8080/"
        },
        "id": "EcKhTTknMe5h",
        "outputId": "d747aea1-87b7-4ae6-f564-dab6b339f178"
      },
      "execution_count": 7,
      "outputs": [
        {
          "output_type": "stream",
          "name": "stdout",
          "text": [
            "['Python', 'ETDS']\n",
            "[2, 33, 1, 0, 8]\n",
            "[0, 1, 2, 8, 33]\n",
            "[0, 1, 2, 15, 8, 33]\n",
            "[33, 15, 8, 2, 1, 0]\n"
          ]
        }
      ]
    },
    {
      "cell_type": "code",
      "source": [
        "#sets\n",
        "my_set = {1, 2, 3, 4, 5}\n",
        "\n",
        "print(\"Original Set:\", my_set)\n",
        "my_set.add(6)\n",
        "my_set.update([7, 8, 9])\n",
        "\n",
        "print(\"Modified Set:\", my_set)\n",
        "\n",
        "my_set.remove(3)\n",
        "my_set.discard(8)\n",
        "\n",
        "print(\"Final Set:\", my_set)\n",
        "\n",
        "set1 = {1, 2, 3, 4, 5}\n",
        "set2 = {3, 4, 5, 6, 7}\n",
        "\n",
        "\n",
        "# Union\n",
        "union_set = set1.union(set2)\n",
        "print(\"Union Set:\", union_set)\n",
        "\n",
        "# Intersection\n",
        "intersection_set = set1.intersection(set2)\n",
        "print(\"Intersection Set:\", intersection_set)\n",
        "\n",
        "# Difference\n",
        "difference_set = set1.difference(set2)\n",
        "print(\"Difference Set (set1 - set2):\", difference_set)\n",
        "\n",
        "# Symmetric Difference\n",
        "symmetric_difference_set = set1.symmetric_difference(set2)\n",
        "print(\"Symmetric Difference Set:\", symmetric_difference_set)\n"
      ],
      "metadata": {
        "colab": {
          "base_uri": "https://localhost:8080/"
        },
        "id": "7NghNOlDMwwJ",
        "outputId": "a0dd0acc-08f5-4215-8d02-cea08ae12928"
      },
      "execution_count": 8,
      "outputs": [
        {
          "output_type": "stream",
          "name": "stdout",
          "text": [
            "Original Set: {1, 2, 3, 4, 5}\n",
            "Modified Set: {1, 2, 3, 4, 5, 6, 7, 8, 9}\n",
            "Final Set: {1, 2, 4, 5, 6, 7, 9}\n",
            "Union Set: {1, 2, 3, 4, 5, 6, 7}\n",
            "Intersection Set: {3, 4, 5}\n",
            "Difference Set (set1 - set2): {1, 2}\n",
            "Symmetric Difference Set: {1, 2, 6, 7}\n"
          ]
        }
      ]
    },
    {
      "cell_type": "code",
      "source": [
        "#Dictionary\n",
        "student = {\n",
        "'name': 'Prayag',\n",
        "'age': 30,\n",
        "'grades': {'math': 90, 'history': 85, 'english': 95},\n",
        "'courses': ['math', 'history', 'english']\n",
        "}\n",
        "\n",
        "print(\"Student Name:\", student['name'])\n",
        "print(\"Student Age:\", student['age'])\n",
        "\n",
        "print(\"Math Grade:\", student['grades']['math'])\n",
        "\n",
        "student['age'] = 21\n",
        "student['grades']['english'] = 92\n",
        "\n",
        "student['gender'] = 'Male'\n",
        "\n",
        "print(\"\\nUpdated Student Information:\")\n",
        "print(student)\n",
        "\n",
        "print(\"\\nIterating over Keys:\")\n",
        "\n",
        "for key in student.keys():\n",
        "  print(key)\n",
        "\n",
        "print(\"\\nIterating over Values:\")\n",
        "for value in student.values():\n",
        "  print(value)\n",
        "\n",
        "\n",
        "print(\"\\nIterating over Key-Value Pairs:\")\n",
        "for key, value in student.items():\n",
        "  print(f\"{key}: {value}\")"
      ],
      "metadata": {
        "colab": {
          "base_uri": "https://localhost:8080/"
        },
        "id": "-dJK2p0-NrOV",
        "outputId": "c7c146f9-490c-40b5-8f0f-216ee01129f6"
      },
      "execution_count": 10,
      "outputs": [
        {
          "output_type": "stream",
          "name": "stdout",
          "text": [
            "Student Name: Prayag\n",
            "Student Age: 30\n",
            "Math Grade: 90\n",
            "\n",
            "Updated Student Information:\n",
            "{'name': 'Prayag', 'age': 21, 'grades': {'math': 90, 'history': 85, 'english': 92}, 'courses': ['math', 'history', 'english'], 'gender': 'Male'}\n",
            "\n",
            "Iterating over Keys:\n",
            "name\n",
            "age\n",
            "grades\n",
            "courses\n",
            "gender\n",
            "\n",
            "Iterating over Values:\n",
            "Prayag\n",
            "21\n",
            "{'math': 90, 'history': 85, 'english': 92}\n",
            "['math', 'history', 'english']\n",
            "Male\n",
            "\n",
            "Iterating over Key-Value Pairs:\n",
            "name: Prayag\n",
            "age: 21\n",
            "grades: {'math': 90, 'history': 85, 'english': 92}\n",
            "courses: ['math', 'history', 'english']\n",
            "gender: Male\n"
          ]
        }
      ]
    }
  ]
}